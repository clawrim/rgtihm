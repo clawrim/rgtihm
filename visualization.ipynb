{
 "cells": [
  {
   "cell_type": "markdown",
   "id": "edfee0b8-8fff-42d0-a845-3cf041a4ea23",
   "metadata": {},
   "source": [
    "## imports"
   ]
  },
  {
   "cell_type": "code",
   "execution_count": 1,
   "id": "ad9dbdca-d40e-4845-a3d7-c85629fceb8f",
   "metadata": {},
   "outputs": [
    {
     "name": "stdout",
     "output_type": "stream",
     "text": [
      "3.11.9 (main, Apr  2 2024, 13:43:44) [GCC 13.2.0]\n",
      "numpy version: 1.26.3\n",
      "matplotlib version: 3.9.2\n",
      "flopy version: 3.9.2\n"
     ]
    }
   ],
   "source": [
    "import os\n",
    "import sys\n",
    "from pathlib import Path\n",
    "from pprint import pformat\n",
    "from tempfile import TemporaryDirectory\n",
    "from datetime import datetime, timedelta\n",
    "import matplotlib as mpl\n",
    "import matplotlib.pyplot as plt\n",
    "from matplotlib.colors import LogNorm\n",
    "import numpy as np\n",
    "import geopandas as gpd\n",
    "import pooch\n",
    "import flopy\n",
    "import flopy.plot\n",
    "import flopy.utils\n",
    "import rasterio\n",
    "from rasterio.features import rasterize\n",
    "from shapely.geometry import box\n",
    "import contextily as cx\n",
    "import re\n",
    "from shapely.geometry import Point\n",
    "from multiprocessing import Pool, cpu_count\n",
    "import time\n",
    "print(sys.version)\n",
    "print(f\"numpy version: {np.__version__}\")\n",
    "print(f\"matplotlib version: {mpl.__version__}\")\n",
    "print(f\"flopy version: {flopy.__version__}\")"
   ]
  },
  {
   "cell_type": "markdown",
   "id": "2e21035d-f822-4cb3-9700-4898f6550d11",
   "metadata": {},
   "source": [
    "## Read Simulation"
   ]
  },
  {
   "cell_type": "code",
   "execution_count": 2,
   "id": "9a7652fd-bef8-46d3-be22-264bc59f875d",
   "metadata": {},
   "outputs": [
    {
     "name": "stdout",
     "output_type": "stream",
     "text": [
      "loading simulation...\n",
      "  loading simulation name file...\n",
      "  loading tdis package...\n",
      "  loading model gwf6...\n",
      "    loading package dis...\n",
      "    loading package oc...\n",
      "    loading package ic...\n",
      "    loading package ghb...\n",
      "    loading package npf...\n",
      "    loading package sto...\n",
      "    loading package hfb...\n",
      "    loading package uzf...\n",
      "  loading solution package rgtihm...\n"
     ]
    }
   ],
   "source": [
    "# path to model directory\n",
    "model_ws = './model'\n",
    "\n",
    "# load MF6 simulation (this may take time)\n",
    "sim = flopy.mf6.MFSimulation.load(sim_ws=model_ws, verbosity_level=1)\n",
    "\n",
    "# get the GWF model\n",
    "gwf = sim.get_model()"
   ]
  },
  {
   "cell_type": "markdown",
   "id": "f29842ce-6cdd-4295-be85-ac359176a3c6",
   "metadata": {},
   "source": [
    "## Read Head and Budget"
   ]
  },
  {
   "cell_type": "code",
   "execution_count": 4,
   "id": "676a0921-254c-4544-a335-c137d19c0fcf",
   "metadata": {},
   "outputs": [
    {
     "ename": "EOFError",
     "evalue": "",
     "output_type": "error",
     "traceback": [
      "\u001b[0;31m---------------------------------------------------------------------------\u001b[0m",
      "\u001b[0;31mEOFError\u001b[0m                                  Traceback (most recent call last)",
      "Cell \u001b[0;32mIn[4], line 8\u001b[0m\n\u001b[1;32m      6\u001b[0m headobj \u001b[38;5;241m=\u001b[39m flopy\u001b[38;5;241m.\u001b[39mutils\u001b[38;5;241m.\u001b[39mHeadFile(head_file)\n\u001b[1;32m      7\u001b[0m head_times \u001b[38;5;241m=\u001b[39m headobj\u001b[38;5;241m.\u001b[39mget_times()\n\u001b[0;32m----> 8\u001b[0m head \u001b[38;5;241m=\u001b[39m \u001b[43mheadobj\u001b[49m\u001b[38;5;241;43m.\u001b[39;49m\u001b[43mget_data\u001b[49m\u001b[43m(\u001b[49m\u001b[43mtotim\u001b[49m\u001b[38;5;241;43m=\u001b[39;49m\u001b[43mhead_times\u001b[49m\u001b[43m[\u001b[49m\u001b[38;5;241;43m-\u001b[39;49m\u001b[38;5;241;43m1\u001b[39;49m\u001b[43m]\u001b[49m\u001b[43m)\u001b[49m  \u001b[38;5;66;03m# last timestep\u001b[39;00m\n\u001b[1;32m     10\u001b[0m \u001b[38;5;66;03m# read cbc file\u001b[39;00m\n\u001b[1;32m     11\u001b[0m cbcobj \u001b[38;5;241m=\u001b[39m flopy\u001b[38;5;241m.\u001b[39mutils\u001b[38;5;241m.\u001b[39mCellBudgetFile(cbc_file, precision\u001b[38;5;241m=\u001b[39m\u001b[38;5;124m'\u001b[39m\u001b[38;5;124mdouble\u001b[39m\u001b[38;5;124m'\u001b[39m)\n",
      "File \u001b[0;32m~/usr/local/lib/python3.11/site-packages/flopy/utils/datafile.py:562\u001b[0m, in \u001b[0;36mLayerFile.get_data\u001b[0;34m(self, kstpkper, idx, totim, mflay)\u001b[0m\n\u001b[1;32m    559\u001b[0m \u001b[38;5;28;01melse\u001b[39;00m:\n\u001b[1;32m    560\u001b[0m     totim1 \u001b[38;5;241m=\u001b[39m \u001b[38;5;28mself\u001b[39m\u001b[38;5;241m.\u001b[39mtimes[\u001b[38;5;241m-\u001b[39m\u001b[38;5;241m1\u001b[39m]\n\u001b[0;32m--> 562\u001b[0m data \u001b[38;5;241m=\u001b[39m \u001b[38;5;28;43mself\u001b[39;49m\u001b[38;5;241;43m.\u001b[39;49m\u001b[43m_get_data_array\u001b[49m\u001b[43m(\u001b[49m\u001b[43mtotim1\u001b[49m\u001b[43m)\u001b[49m\n\u001b[1;32m    563\u001b[0m \u001b[38;5;28;01mif\u001b[39;00m mflay \u001b[38;5;129;01mis\u001b[39;00m \u001b[38;5;28;01mNone\u001b[39;00m:\n\u001b[1;32m    564\u001b[0m     \u001b[38;5;28;01mreturn\u001b[39;00m data\n",
      "File \u001b[0;32m~/usr/local/lib/python3.11/site-packages/flopy/utils/datafile.py:489\u001b[0m, in \u001b[0;36mLayerFile._get_data_array\u001b[0;34m(self, totim)\u001b[0m\n\u001b[1;32m    487\u001b[0m     ncol \u001b[38;5;241m=\u001b[39m \u001b[38;5;28mself\u001b[39m\u001b[38;5;241m.\u001b[39mrecordarray[\u001b[38;5;124m\"\u001b[39m\u001b[38;5;124mncol\u001b[39m\u001b[38;5;124m\"\u001b[39m][idx]\n\u001b[1;32m    488\u001b[0m     shp \u001b[38;5;241m=\u001b[39m (nrow, ncol)\n\u001b[0;32m--> 489\u001b[0m     data[ilay \u001b[38;5;241m-\u001b[39m \u001b[38;5;241m1\u001b[39m] \u001b[38;5;241m=\u001b[39m \u001b[38;5;28;43mself\u001b[39;49m\u001b[38;5;241;43m.\u001b[39;49m\u001b[43m_read_data\u001b[49m\u001b[43m(\u001b[49m\u001b[43mshp\u001b[49m\u001b[43m)\u001b[49m\n\u001b[1;32m    490\u001b[0m \u001b[38;5;28;01mreturn\u001b[39;00m data\n",
      "File \u001b[0;32m~/usr/local/lib/python3.11/site-packages/flopy/utils/binaryfile/__init__.py:514\u001b[0m, in \u001b[0;36mBinaryLayerFile._read_data\u001b[0;34m(self, shp)\u001b[0m\n\u001b[1;32m    513\u001b[0m \u001b[38;5;28;01mdef\u001b[39;00m \u001b[38;5;21m_read_data\u001b[39m(\u001b[38;5;28mself\u001b[39m, shp):\n\u001b[0;32m--> 514\u001b[0m     \u001b[38;5;28;01mreturn\u001b[39;00m \u001b[43mbinaryread\u001b[49m\u001b[43m(\u001b[49m\u001b[38;5;28;43mself\u001b[39;49m\u001b[38;5;241;43m.\u001b[39;49m\u001b[43mfile\u001b[49m\u001b[43m,\u001b[49m\u001b[43m \u001b[49m\u001b[38;5;28;43mself\u001b[39;49m\u001b[38;5;241;43m.\u001b[39;49m\u001b[43mrealtype\u001b[49m\u001b[43m,\u001b[49m\u001b[43m \u001b[49m\u001b[43mshape\u001b[49m\u001b[38;5;241;43m=\u001b[39;49m\u001b[43mshp\u001b[49m\u001b[43m)\u001b[49m\n",
      "File \u001b[0;32m~/usr/local/lib/python3.11/site-packages/flopy/utils/binaryfile/__init__.py:332\u001b[0m, in \u001b[0;36mbinaryread\u001b[0;34m(file, vartype, shape, charlen)\u001b[0m\n\u001b[1;32m    330\u001b[0m result \u001b[38;5;241m=\u001b[39m np\u001b[38;5;241m.\u001b[39mfromfile(file, vartype, nval)\n\u001b[1;32m    331\u001b[0m \u001b[38;5;28;01mif\u001b[39;00m result\u001b[38;5;241m.\u001b[39msize \u001b[38;5;241m<\u001b[39m nval:\n\u001b[0;32m--> 332\u001b[0m     \u001b[38;5;28;01mraise\u001b[39;00m \u001b[38;5;167;01mEOFError\u001b[39;00m\n\u001b[1;32m    333\u001b[0m \u001b[38;5;28;01mif\u001b[39;00m nval \u001b[38;5;241m!=\u001b[39m \u001b[38;5;241m1\u001b[39m:\n\u001b[1;32m    334\u001b[0m     result \u001b[38;5;241m=\u001b[39m np\u001b[38;5;241m.\u001b[39mreshape(result, shape)\n",
      "\u001b[0;31mEOFError\u001b[0m: "
     ]
    }
   ],
   "source": [
    "# manually define output file names (unlike mf2005)\n",
    "head_file = os.path.join(model_ws, 'rgtihm.hds')\n",
    "cbc_file = os.path.join(model_ws, 'rgtihm.cbc')\n",
    "\n",
    "# read head file\n",
    "headobj = flopy.utils.HeadFile(head_file)\n",
    "head_times = headobj.get_times()\n",
    "head = headobj.get_data(totim=head_times[-1])  # last timestep\n",
    "\n",
    "# read cbc file\n",
    "cbcobj = flopy.utils.CellBudgetFile(cbc_file, precision='double')\n",
    "cbc_records = cbcobj.get_data(text='FLOW-JA-FACE', totim=head_times[-1])\n"
   ]
  },
  {
   "cell_type": "markdown",
   "id": "afc2c963-eb95-41dc-b0ff-4fc0da99ccd5",
   "metadata": {},
   "source": [
    "## Plots"
   ]
  },
  {
   "cell_type": "code",
   "execution_count": null,
   "id": "19f0263b-4742-40c7-a791-27d781f7e492",
   "metadata": {},
   "outputs": [],
   "source": [
    "plt.figure(figsize=(10, 8))\n",
    "plt.imshow(head[3], cmap='viridis', origin='lower')\n",
    "plt.colorbar(label='Head (m)')\n",
    "plt.title('Simulated Head - Layer 1 (Last Time Step)')\n",
    "plt.xlabel('Column')\n",
    "plt.ylabel('Row')\n",
    "plt.tight_layout()\n",
    "plt.show()\n"
   ]
  },
  {
   "cell_type": "code",
   "execution_count": null,
   "id": "b1c62759-ac70-4502-b4b1-7f64f7c5a09a",
   "metadata": {},
   "outputs": [],
   "source": [
    "# editable list of (layer, row, col) tuples\n",
    "cell_indices = [(3, 700, 150), (4, 650, 200), (4, 800, 100)]  # example cells\n",
    "\n",
    "plt.figure(figsize=(10, 6))\n",
    "\n",
    "for layer, row, col in cell_indices:\n",
    "    ts = [headobj.get_data(totim=t)[layer, row, col] for t in head_times]\n",
    "    plt.plot(head_times, ts, label=f'L{layer} R{row} C{col}')\n",
    "\n",
    "plt.xlabel('Time')\n",
    "plt.ylabel('Head (m)')\n",
    "plt.title('Time Series of Head at Selected Cells')\n",
    "plt.legend()\n",
    "plt.grid(True)\n",
    "plt.tight_layout()\n",
    "plt.show()\n"
   ]
  },
  {
   "cell_type": "code",
   "execution_count": null,
   "id": "f1d01233-c056-489a-82ed-d466d2e3c16d",
   "metadata": {},
   "outputs": [],
   "source": [
    "head_start = headobj.get_data(totim=head_times[3])\n",
    "head_end = headobj.get_data(totim=head_times[-1])\n",
    "head_diff = head_end[3] - head_start[3]\n",
    "\n",
    "plt.figure(figsize=(10, 8))\n",
    "plt.imshow(head_diff, cmap='RdBu', origin='lower')\n",
    "plt.colorbar(label='Head Change (m)')\n",
    "plt.title('Head Difference (Last - First Time) | Layer 4')\n",
    "plt.xlabel('Column')\n",
    "plt.ylabel('Row')\n",
    "plt.tight_layout()\n",
    "plt.show()\n"
   ]
  },
  {
   "cell_type": "code",
   "execution_count": null,
   "id": "92c25331-d9da-473e-90b4-f15786edad2c",
   "metadata": {},
   "outputs": [],
   "source": [
    "layer_id = 8  # change if needed\n",
    "plt.figure(figsize=(10, 6))\n",
    "plt.hist(head[layer_id].ravel(), bins=50, edgecolor='k')\n",
    "plt.title(f'Head Histogram - Layer {layer_id+1} (Last Timestep)')\n",
    "plt.xlabel('Head (m)')\n",
    "plt.ylabel('Frequency')\n",
    "plt.grid(True)\n",
    "plt.tight_layout()\n",
    "plt.show()\n",
    "\n",
    "layer_id = 2  # change if needed\n",
    "plt.figure(figsize=(10, 6))\n",
    "plt.hist(head[layer_id].ravel(), bins=50, edgecolor='k')\n",
    "plt.title(f'Head Histogram - Layer {layer_id+1} (Last Timestep)')\n",
    "plt.xlabel('Head (m)')\n",
    "plt.ylabel('Frequency')\n",
    "plt.grid(True)\n",
    "plt.tight_layout()\n",
    "plt.show()\n"
   ]
  },
  {
   "cell_type": "code",
   "execution_count": null,
   "id": "970363f3-b6c1-4b43-9405-b59a2518e0bf",
   "metadata": {},
   "outputs": [],
   "source": []
  }
 ],
 "metadata": {
  "kernelspec": {
   "display_name": "Python 3 (ipykernel)",
   "language": "python",
   "name": "python3"
  },
  "language_info": {
   "codemirror_mode": {
    "name": "ipython",
    "version": 3
   },
   "file_extension": ".py",
   "mimetype": "text/x-python",
   "name": "python",
   "nbconvert_exporter": "python",
   "pygments_lexer": "ipython3",
   "version": "3.11.9"
  }
 },
 "nbformat": 4,
 "nbformat_minor": 5
}
